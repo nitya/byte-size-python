{
 "cells": [
  {
   "cell_type": "code",
   "execution_count": 1,
   "metadata": {},
   "outputs": [
    {
     "name": "stdout",
     "output_type": "stream",
     "text": [
      "Welcome back to school!\n",
      "Answer these three questions to introduce yourself!\n"
     ]
    }
   ],
   "source": [
    "# First greet your classmate\n",
    "print(\"Welcome back to school!\")\n",
    "print('Answer these three questions to introduce yourself!')"
   ]
  },
  {
   "cell_type": "code",
   "execution_count": 2,
   "metadata": {},
   "outputs": [
    {
     "name": "stdout",
     "output_type": "stream",
     "text": [
      "What's your name? nitya\n",
      "nitya\n"
     ]
    }
   ],
   "source": [
    "# Next, ask the first question: What's your name?\n",
    "# Create a variable to store the answer.\n",
    "# You can use the function \"input()\" to get input from the user\n",
    "# The string you provide as the argument to this function, is shown to user as prompt\n",
    "# Assign this to a variable to get the user's response stored there\n",
    "name = input(\"What's your name? \")\n",
    "print(name)"
   ]
  },
  {
   "cell_type": "code",
   "execution_count": 3,
   "metadata": {},
   "outputs": [
    {
     "name": "stdout",
     "output_type": "stream",
     "text": [
      "What's your name? nitya\n",
      "Nitya\n"
     ]
    }
   ],
   "source": [
    "# The .title() method can work on any string to make the first letter capitalized\n",
    "# We can use this to make sure we always store the name value with a capital first letter\n",
    "# See: https://www.w3schools.com/python/ref_string_title.asp\n",
    "name = input(\"What's your name? \").title()\n",
    "print(name)"
   ]
  },
  {
   "cell_type": "code",
   "execution_count": 4,
   "metadata": {},
   "outputs": [
    {
     "name": "stdout",
     "output_type": "stream",
     "text": [
      "What's your favorite color? Blue\n",
      "blue\n"
     ]
    }
   ],
   "source": [
    "# Next, ask the second question: What's your favorite color?\n",
    "# Repeat the same process\n",
    "# This time, we learn about the .lowerr method which converts the string to lower case\n",
    "# See: https://www.w3schools.com/python/ref_string_lower.asp\n",
    "# We can now make sure that the color value is always in lower case\n",
    "color = input(\"What's your favorite color? \").lower()\n",
    "print(color)"
   ]
  },
  {
   "cell_type": "code",
   "execution_count": 6,
   "metadata": {},
   "outputs": [
    {
     "name": "stdout",
     "output_type": "stream",
     "text": [
      "What's your favorite food? Bisibele Bath\n",
      "Bisibele Bath\n",
      "What's your favorite TV show? Shaun The Sheep\n",
      "Shaun The Sheep\n"
     ]
    }
   ],
   "source": [
    "# Finally, do the same for the last two questions:\n",
    "# What's your favorite food?\n",
    "# What's your favorite TV show?\n",
    "food = input(\"What's your favorite food? \")\n",
    "print(food)\n",
    "tv_show = input(\"What's your favorite TV show? \")\n",
    "print(tv_show)"
   ]
  },
  {
   "cell_type": "code",
   "execution_count": 11,
   "metadata": {},
   "outputs": [
    {
     "name": "stdout",
     "output_type": "stream",
     "text": [
      "==================================\n",
      "Everyone, meet Nitya! Nitya's favorite color is blue, Nitya's favorite food is Bisibele Bath', Nitya's favorite tv show is Shaun The Sheep\n",
      "==================================\n"
     ]
    }
   ],
   "source": [
    "# Now put it all together and show the student a welcome message!\n",
    "# We're learning about FORMATTING strings now woo hoo!\n",
    "# Lesson 1:\n",
    "# We'll use the f-strings format that was introduced in Python 3.6\n",
    "# It's simpler than .format() and %-formatting approaches\n",
    "# Lesson 2:\n",
    "# The curly braces are used to indicate areas where the enclosed variable name \n",
    "# will be substituted for its value just before printing\n",
    "# \n",
    "print(\"==================================\")\n",
    "print(f\"Everyone, meet {name}! {name}'s favorite color is {color}, {name}'s favorite food is {food}', {name}'s favorite tv show is {tv_show}\")\n",
    "print(\"==================================\")"
   ]
  },
  {
   "cell_type": "code",
   "execution_count": null,
   "metadata": {},
   "outputs": [],
   "source": []
  }
 ],
 "metadata": {
  "kernelspec": {
   "display_name": "Python 3",
   "language": "python",
   "name": "python3"
  },
  "language_info": {
   "codemirror_mode": {
    "name": "ipython",
    "version": 3
   },
   "file_extension": ".py",
   "mimetype": "text/x-python",
   "name": "python",
   "nbconvert_exporter": "python",
   "pygments_lexer": "ipython3",
   "version": "3.7.6"
  }
 },
 "nbformat": 4,
 "nbformat_minor": 4
}
