{
 "cells": [
  {
   "cell_type": "code",
   "execution_count": 2,
   "metadata": {},
   "outputs": [
    {
     "name": "stdout",
     "output_type": "stream",
     "text": [
      "Hello World\n"
     ]
    }
   ],
   "source": [
    "# Print Hello World\n",
    "# Write the code, then hit \"Run\" in notebook\n",
    "# We are using interactive notebooks. \n",
    "# You can also save this text to a file with .py extension and run it at command-line\n",
    "\n",
    "print(\"Hello World\")"
   ]
  },
  {
   "cell_type": "code",
   "execution_count": 11,
   "metadata": {},
   "outputs": [
    {
     "name": "stdout",
     "output_type": "stream",
     "text": [
      "Hello 'World!'\n"
     ]
    }
   ],
   "source": [
    "# Things we learned\n",
    "# Python code is indented => Indent using tab key\n",
    "\n",
    "# Use single or double quotes for strings => be careful about mixing them\n",
    "print(\"Hello 'World!'\")"
   ]
  },
  {
   "cell_type": "code",
   "execution_count": 10,
   "metadata": {},
   "outputs": [
    {
     "name": "stdout",
     "output_type": "stream",
     "text": [
      "Hello \"World!\" \n"
     ]
    }
   ],
   "source": [
    "# If you want quotes to appear in your printed statement, use \"\\\" (escape)\n",
    "print(\"Hello \\\"World!\\\" \")"
   ]
  },
  {
   "cell_type": "code",
   "execution_count": 7,
   "metadata": {},
   "outputs": [
    {
     "name": "stdout",
     "output_type": "stream",
     "text": [
      "[0, 'Hello World!', 6.752, True]\n"
     ]
    }
   ],
   "source": [
    "# =====================\n",
    "# Chapter 4: Variables\n",
    "# =====================\n",
    "# Variables are NAMES that represent a TYPE OF DAT\n",
    "# Variable names can contain alphabets, numbers, \"_\"\n",
    "# Names should not have spaces. \n",
    "# They can be in camel-case (alternative capital and small letters)\n",
    "booksOwned = 0\n",
    "\n",
    "# Examples of simple data types: strings, integers, floats, booleans\n",
    "# Any of these can be stored in a variable\n",
    "integerExample = 0\n",
    "stringExample = \"Hello World!\"\n",
    "floatExample = 6.752\n",
    "booleanExample = True\n",
    "\n",
    "# Checkpoint 1 completed!"
   ]
  },
  {
   "cell_type": "code",
   "execution_count": 8,
   "metadata": {},
   "outputs": [
    {
     "name": "stdout",
     "output_type": "stream",
     "text": [
      "[0, 'Hello World!', 6.752, True]\n"
     ]
    }
   ],
   "source": [
    "# Examples of complex data types are: lists, sets, dictionaries, tuples etc.\n",
    "listExample = [integerExample, stringExample, floatExample, booleanExample]\n",
    "\n",
    "# Let's experiment by printing it out\n",
    "print(listExample)"
   ]
  },
  {
   "cell_type": "code",
   "execution_count": 11,
   "metadata": {},
   "outputs": [
    {
     "name": "stdout",
     "output_type": "stream",
     "text": [
      "<class 'list'>\n"
     ]
    }
   ],
   "source": [
    "# You can find the \"type\" of any variable using the \"type()\" function\n",
    "# Let's experiment by printing that out..\n",
    "print(type(listExample))"
   ]
  },
  {
   "cell_type": "code",
   "execution_count": 16,
   "metadata": {},
   "outputs": [
    {
     "name": "stdout",
     "output_type": "stream",
     "text": [
      "purplepurplepurplepurplepurplepurplepurplepurplepurplepurplepurplepurplepurplepurplepurplepurplepurplepurplepurplepurple\n",
      "purple purple purple purple purple purple purple purple purple purple purple purple purple purple purple purple purple purple purple purple \n"
     ]
    }
   ],
   "source": [
    "# Exercises: Save your favorite color to a variable. \n",
    "# Then print your favorite color 20 times.\n",
    "\n",
    "favorite_color = \"purple\"\n",
    "print (favorite_color *20)\n",
    "\n",
    "# Try to get a spacing in\n",
    "print ((favorite_color + \" \")*20)\n",
    "\n",
    "# Checkpoint 2 completed!"
   ]
  },
  {
   "cell_type": "code",
   "execution_count": 22,
   "metadata": {},
   "outputs": [
    {
     "name": "stdout",
     "output_type": "stream",
     "text": [
      "====================\n",
      "23.55\n",
      "<class 'float'>\n",
      "====================\n",
      "26.55\n",
      "<class 'float'>\n",
      "====================\n",
      "25\n",
      "<class 'int'>\n"
     ]
    }
   ],
   "source": [
    "# Update Variables\n",
    "# When you assign new values to an existing variable, it replaces the old values\n",
    "# You can check this by printing out the value each time. Bonus: print out the type too!\n",
    "test_var = 23.55\n",
    "print(\"====================\")\n",
    "print(test_var)\n",
    "print(type(test_var))\n",
    "\n",
    "# Now update values and print again\n",
    "test_var = test_var + 3\n",
    "print(\"====================\")\n",
    "print(test_var)\n",
    "print(type(test_var))\n",
    "\n",
    "# Can I change the type and update it?\n",
    "print(\"====================\")\n",
    "test_var = 25\n",
    "print(test_var)\n",
    "print(type(test_var))\n",
    "\n",
    "#Checkpoint 3 completed"
   ]
  },
  {
   "cell_type": "code",
   "execution_count": null,
   "metadata": {},
   "outputs": [],
   "source": [
    "# Project: Meet Your Classmates - Done in it's own Notebook"
   ]
  }
 ],
 "metadata": {
  "kernelspec": {
   "display_name": "Python 3",
   "language": "python",
   "name": "python3"
  },
  "language_info": {
   "codemirror_mode": {
    "name": "ipython",
    "version": 3
   },
   "file_extension": ".py",
   "mimetype": "text/x-python",
   "name": "python",
   "nbconvert_exporter": "python",
   "pygments_lexer": "ipython3",
   "version": "3.7.6"
  }
 },
 "nbformat": 4,
 "nbformat_minor": 4
}
